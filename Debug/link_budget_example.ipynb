{
 "cells": [
  {
   "cell_type": "code",
   "execution_count": 2,
   "metadata": {},
   "outputs": [],
   "source": [
    "import numpy as np"
   ]
  },
  {
   "cell_type": "code",
   "execution_count": 10,
   "metadata": {},
   "outputs": [],
   "source": [
    "# values\n",
    "\n",
    "modulation_scheme = 1200 # bits/s\n",
    "EIRP = 1000 # W\n",
    "b = 10e6 # Hz\n",
    "gain_receiver = 1e6 \n",
    "noise_figure = 2 #dB\n",
    "\n",
    "k = 1.38e-23\n",
    "\n",
    "# not given\n",
    "t_a = 30 # ???\n",
    "temp_0 = 290\n",
    "\n",
    "# frequency = 145.950e6 # source: https://www.n2yo.com/satellite/?s=39444\n",
    "wavelength = 0.0261 # 3e8 / frequency\n",
    "\n",
    "p_t = 10   # 0.3 source: https://www.n2yo.com/satellite/?s=39444\n",
    "\n",
    "distance = 2e7 # example\n",
    "gain_antenna = 34807 # ???\n"
   ]
  },
  {
   "cell_type": "code",
   "execution_count": 4,
   "metadata": {},
   "outputs": [
    {
     "name": "stdout",
     "output_type": "stream",
     "text": [
      "Wave Length λ: 0.0261 m\n",
      "Bandwidth B: 10000000.0 Hz\n",
      "Boltzman Const k: 1.38e-23 J/K\n"
     ]
    }
   ],
   "source": [
    "# general \n",
    "\n",
    "# print(f'Frequency f: {frequency} W')\n",
    "print(f'Wave Length λ: {wavelength} m')\n",
    "print(f'Bandwidth B: {b} Hz')\n",
    "print(f'Boltzman Const k: {k} J/K')\n"
   ]
  },
  {
   "cell_type": "code",
   "execution_count": 5,
   "metadata": {},
   "outputs": [
    {
     "name": "stdout",
     "output_type": "stream",
     "text": [
      "Transmit Power: 10 W\n",
      "Antenna Gain: 100.0\n"
     ]
    }
   ],
   "source": [
    "# transmitter\n",
    "print(f'Transmit Power: {p_t} W')\n",
    "\n",
    "gain_t = EIRP / p_t\n",
    "print(f'Antenna Gain: {gain_t}')"
   ]
  },
  {
   "cell_type": "code",
   "execution_count": 6,
   "metadata": {},
   "outputs": [
    {
     "name": "stdout",
     "output_type": "stream",
     "text": [
      "Distance: 20000000.0 m\n",
      "Path loss: 9.272539769964016e+19\n",
      "Power Flux Dens. Ground: 1.9894367886486917e-13 W/m²\n"
     ]
    }
   ],
   "source": [
    "# path\n",
    "print(f'Distance: {distance} m')\n",
    "\n",
    "pathloss = ((4 * np.pi * distance) / wavelength)**2\n",
    "print(f'Path loss: {pathloss}')\n",
    "\n",
    "S = EIRP / (4 * np.pi * distance**2)\n",
    "print(f'Power Flux Dens. Ground: {S} W/m²')"
   ]
  },
  {
   "cell_type": "code",
   "execution_count": 7,
   "metadata": {},
   "outputs": [
    {
     "name": "stdout",
     "output_type": "stream",
     "text": [
      "Equiv. Noise Temperature Te: 169.61902581372294 K\n",
      "Receiver Noise N0: 2.7547425562293768e-08 W\n",
      "Antenna Noise Ni: 4.14e-15 W\n"
     ]
    }
   ],
   "source": [
    "# Noise\n",
    "\n",
    "equiv_noise_temp = (10**(noise_figure/10) - 1) * temp_0\n",
    "print(f'Equiv. Noise Temperature Te: {equiv_noise_temp} K')\n",
    "\n",
    "noise_out = k * gain_receiver * (t_a + equiv_noise_temp) * b\n",
    "print(f'Receiver Noise N0: {noise_out} W')\n",
    "\n",
    "noise_in = k * t_a * b\n",
    "print(f'Antenna Noise Ni: {noise_in} W')\n"
   ]
  },
  {
   "cell_type": "code",
   "execution_count": 24,
   "metadata": {},
   "outputs": [
    {
     "name": "stdout",
     "output_type": "stream",
     "text": [
      "Signal In Si: 3.753771983027588e-13 W\n",
      "Signal Out So: 3.7537719830275876e-07 W\n",
      "SNR In SNRi: 90.67082084607699 W\n",
      "SNR Out SNRo: 13.626580003053562 W\n",
      "Attentuation A: 26639870629367.703 W\n",
      "Effective Antenna Area Aeff: 1.8849661602191459 m²\n",
      "Antenna Efficieny ηant: 60.0 %\n",
      "Antenna phys. Area: 3.14161026703191 m²\n",
      "Antenna Diameter: 2.0000056065248972 m\n"
     ]
    }
   ],
   "source": [
    "# Receiver\n",
    "\n",
    "p_r = gain_t * p_t * gain_antenna * 1/pathloss\n",
    "S_in = p_r\n",
    "print(f'Signal In Si: {S_in} W')\n",
    "\n",
    "S_out = S_in * gain_receiver\n",
    "print(f'Signal Out So: {S_out} W')\n",
    "\n",
    "SNR_in = S_in / noise_in\n",
    "print(f'SNR In SNRi: {SNR_in} W')\n",
    "\n",
    "SNR_out = S_out / noise_out\n",
    "print(f'SNR Out SNRo: {SNR_out} W')\n",
    "\n",
    "# Wert zu hoch -> logarithmisch anderer Wert\n",
    "attentuation = p_t / p_r\n",
    "print(f'Attentuation A: {attentuation} W')\n",
    "\n",
    "effective_antenna_area = gain_antenna * wavelength**2 / (4*np.pi)\n",
    "print(f'Effective Antenna Area Aeff: {effective_antenna_area} m²')\n",
    "\n",
    "antenna_efficiency = 0.6\n",
    "print(f'Antenna Efficieny ηant: {antenna_efficiency * 100} %')\n",
    "\n",
    "antenna_area = effective_antenna_area / antenna_efficiency\n",
    "print(f'Antenna phys. Area: {antenna_area} m²')\n",
    "\n",
    "antenna_diameter = 2* np.sqrt(antenna_area/np.pi)\n",
    "print(f'Antenna Diameter: {antenna_diameter} m')\n"
   ]
  },
  {
   "cell_type": "code",
   "execution_count": 18,
   "metadata": {},
   "outputs": [
    {
     "data": {
      "text/plain": [
       "1.5848931924611136"
      ]
     },
     "execution_count": 18,
     "metadata": {},
     "output_type": "execute_result"
    }
   ],
   "source": [
    "10**(2/10)"
   ]
  },
  {
   "cell_type": "code",
   "execution_count": 19,
   "metadata": {},
   "outputs": [
    {
     "data": {
      "text/plain": [
       "1.9975517725347471"
      ]
     },
     "execution_count": 19,
     "metadata": {},
     "output_type": "execute_result"
    }
   ],
   "source": [
    "10*np.log10(1.584)"
   ]
  },
  {
   "cell_type": "code",
   "execution_count": 54,
   "metadata": {},
   "outputs": [
    {
     "name": "stdout",
     "output_type": "stream",
     "text": [
      "1.0\n",
      "0.7692307692307692\n",
      "13000000.000000002\n",
      "17.714554003969635\n",
      "1.322521587726551e-09\n"
     ]
    }
   ],
   "source": [
    "import math\n",
    "\n",
    "bitsPerSymbol = 1\n",
    "M = 2**bitsPerSymbol\n",
    "\n",
    "rollOffFactor = 0.3\n",
    "bitrate = 10000000\n",
    "\n",
    "spectralEfficiency = np.log2(M)/(1+rollOffFactor)\n",
    "\n",
    "print(spectralEfficiency)\n",
    "\n",
    "requiredBandwidth = bitrate / spectralEfficiency\n",
    "\n",
    "print(requiredBandwidth)\n",
    "\n",
    "energyPerBit = SNR_out * requiredBandwidth / bitrate\n",
    "print(energyPerBit)\n",
    "\n",
    "bitErrorRatio = 1/2 * math.erfc(np.sqrt(energyPerBit))\n",
    "print(bitErrorRatio)\n",
    "\n"
   ]
  },
  {
   "cell_type": "code",
   "execution_count": 12,
   "metadata": {},
   "outputs": [
    {
     "data": {
      "text/plain": [
       "199.67198704695593"
      ]
     },
     "execution_count": 12,
     "metadata": {},
     "output_type": "execute_result"
    }
   ],
   "source": [
    "pathloss = ((4 * np.pi * distance) / wavelength)**2\n",
    "pathloss_dB =  10*np.log10(pathloss)\n",
    "pathloss_dB"
   ]
  },
  {
   "cell_type": "code",
   "execution_count": 4,
   "metadata": {},
   "outputs": [],
   "source": [
    "govert = 10*np.log10(34807 / (30+169.6))\n"
   ]
  },
  {
   "cell_type": "code",
   "execution_count": 5,
   "metadata": {},
   "outputs": [
    {
     "data": {
      "text/plain": [
       "11.31626969894597"
      ]
     },
     "execution_count": 5,
     "metadata": {},
     "output_type": "execute_result"
    }
   ],
   "source": [
    "30 - 199.7 - 10*np.log10(1.38E-23) - 10*np.log10(10000000) + govert"
   ]
  },
  {
   "cell_type": "code",
   "execution_count": 8,
   "metadata": {},
   "outputs": [
    {
     "data": {
      "text/plain": [
       "-228.60120913598763"
      ]
     },
     "execution_count": 8,
     "metadata": {},
     "output_type": "execute_result"
    }
   ],
   "source": [
    "10*np.log10(1.38E-23)"
   ]
  },
  {
   "cell_type": "code",
   "execution_count": null,
   "metadata": {},
   "outputs": [],
   "source": []
  }
 ],
 "metadata": {
  "kernelspec": {
   "display_name": "base",
   "language": "python",
   "name": "python3"
  },
  "language_info": {
   "codemirror_mode": {
    "name": "ipython",
    "version": 3
   },
   "file_extension": ".py",
   "mimetype": "text/x-python",
   "name": "python",
   "nbconvert_exporter": "python",
   "pygments_lexer": "ipython3",
   "version": "3.11.5"
  }
 },
 "nbformat": 4,
 "nbformat_minor": 2
}
